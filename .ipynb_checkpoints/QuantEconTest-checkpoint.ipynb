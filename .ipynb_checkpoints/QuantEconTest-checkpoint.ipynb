{
 "cells": [
  {
   "cell_type": "code",
   "execution_count": 1,
   "id": "569e3755-546f-4a51-9eda-fbba8144c3f5",
   "metadata": {},
   "outputs": [
    {
     "name": "stdout",
     "output_type": "stream",
     "text": [
      "Collecting quantecon\n",
      "  Downloading quantecon-0.5.3-py3-none-any.whl (179 kB)\n",
      "     |████████████████████████████████| 179 kB 1.7 MB/s            \n",
      "\u001b[?25hRequirement already satisfied: numpy in /opt/conda/lib/python3.9/site-packages (from quantecon) (1.20.3)\n",
      "Requirement already satisfied: scipy>=1.0.0 in /opt/conda/lib/python3.9/site-packages (from quantecon) (1.7.1)\n",
      "Requirement already satisfied: sympy in /opt/conda/lib/python3.9/site-packages (from quantecon) (1.9)\n",
      "Requirement already satisfied: numba in /opt/conda/lib/python3.9/site-packages (from quantecon) (0.54.1)\n",
      "Requirement already satisfied: requests in /opt/conda/lib/python3.9/site-packages (from quantecon) (2.26.0)\n",
      "Requirement already satisfied: setuptools in /opt/conda/lib/python3.9/site-packages (from numba->quantecon) (58.2.0)\n",
      "Requirement already satisfied: llvmlite<0.38,>=0.37.0rc1 in /opt/conda/lib/python3.9/site-packages (from numba->quantecon) (0.37.0)\n",
      "Requirement already satisfied: idna<4,>=2.5 in /opt/conda/lib/python3.9/site-packages (from requests->quantecon) (3.1)\n",
      "Requirement already satisfied: certifi>=2017.4.17 in /opt/conda/lib/python3.9/site-packages (from requests->quantecon) (2021.10.8)\n",
      "Requirement already satisfied: urllib3<1.27,>=1.21.1 in /opt/conda/lib/python3.9/site-packages (from requests->quantecon) (1.26.7)\n",
      "Requirement already satisfied: charset-normalizer~=2.0.0 in /opt/conda/lib/python3.9/site-packages (from requests->quantecon) (2.0.0)\n",
      "Requirement already satisfied: mpmath>=0.19 in /opt/conda/lib/python3.9/site-packages (from sympy->quantecon) (1.2.1)\n",
      "Installing collected packages: quantecon\n",
      "Successfully installed quantecon-0.5.3\n"
     ]
    }
   ],
   "source": [
    "import sys\n",
    "!{sys.executable} -m pip install quantecon"
   ]
  },
  {
   "cell_type": "code",
   "execution_count": 2,
   "id": "5407b416-22b8-4990-9e58-4fc1fea997fc",
   "metadata": {},
   "outputs": [
    {
     "name": "stdout",
     "output_type": "stream",
     "text": [
      "Cloning into 'lecture-python.notebooks'...\n",
      "remote: Enumerating objects: 6729, done.\u001b[K\n",
      "remote: Counting objects: 100% (613/613), done.\u001b[K\n",
      "remote: Compressing objects: 100% (28/28), done.\u001b[K\n",
      "remote: Total 6729 (delta 588), reused 585 (delta 585), pack-reused 6116\u001b[K\n",
      "Receiving objects: 100% (6729/6729), 3.09 MiB | 9.04 MiB/s, done.\n",
      "Resolving deltas: 100% (6410/6410), done.\n"
     ]
    }
   ],
   "source": [
    "!git clone https://github.com/QuantEcon/lecture-python.notebooks.git"
   ]
  },
  {
   "cell_type": "code",
   "execution_count": 1,
   "id": "38cf64b9-a4b9-4519-b2cd-532e32177dd0",
   "metadata": {},
   "outputs": [
    {
     "name": "stdout",
     "output_type": "stream",
     "text": [
      "Cloning into 'lecture-python-advanced.notebooks'...\n",
      "remote: Enumerating objects: 3366, done.\u001b[K\n",
      "remote: Counting objects: 100% (3366/3366), done.\u001b[K\n",
      "remote: Compressing objects: 100% (343/343), done.\u001b[K\n",
      "remote: Total 3366 (delta 3157), reused 3220 (delta 3022), pack-reused 0\u001b[K\n",
      "Receiving objects: 100% (3366/3366), 1.45 MiB | 3.38 MiB/s, done.\n",
      "Resolving deltas: 100% (3157/3157), done.\n"
     ]
    }
   ],
   "source": [
    "!git clone https://github.com/QuantEcon/lecture-python-advanced.notebooks"
   ]
  },
  {
   "cell_type": "code",
   "execution_count": 2,
   "id": "1c965aea-ef4c-43e7-a511-92cef07a36f6",
   "metadata": {},
   "outputs": [
    {
     "name": "stdout",
     "output_type": "stream",
     "text": [
      "Cloning into 'lecture-python-programming.notebooks'...\n",
      "remote: Enumerating objects: 1486, done.\u001b[K\n",
      "remote: Counting objects: 100% (731/731), done.\u001b[K\n",
      "remote: Compressing objects: 100% (147/147), done.\u001b[K\n",
      "remote: Total 1486 (delta 634), reused 676 (delta 583), pack-reused 755\u001b[K\n",
      "Receiving objects: 100% (1486/1486), 523.11 KiB | 356.00 KiB/s, done.\n",
      "Resolving deltas: 100% (1289/1289), done.\n"
     ]
    }
   ],
   "source": [
    "!git clone https://github.com/QuantEcon/lecture-python-programming.notebooks.git"
   ]
  },
  {
   "cell_type": "code",
   "execution_count": 3,
   "id": "66e02acc-c42e-48f8-8547-17220c4d6ed0",
   "metadata": {},
   "outputs": [
    {
     "name": "stdout",
     "output_type": "stream",
     "text": [
      "Cloning into 'lecture-datascience.notebooks'...\n",
      "remote: Enumerating objects: 5513, done.\u001b[K\n",
      "remote: Counting objects: 100% (2851/2851), done.\u001b[K\n",
      "remote: Compressing objects: 100% (42/42), done.\u001b[K\n",
      "remote: Total 5513 (delta 2818), reused 2809 (delta 2809), pack-reused 2662\u001b[K\n",
      "Receiving objects: 100% (5513/5513), 8.54 MiB | 3.44 MiB/s, done.\n",
      "Resolving deltas: 100% (4548/4548), done.\n"
     ]
    }
   ],
   "source": [
    "!git clone https://github.com/QuantEcon/lecture-datascience.notebooks.git"
   ]
  },
  {
   "cell_type": "code",
   "execution_count": 4,
   "id": "fc532f6d-59dd-41e4-9000-5a342610e1e9",
   "metadata": {},
   "outputs": [
    {
     "name": "stdout",
     "output_type": "stream",
     "text": [
      "Cloning into 'continuous_time_mcs.notebooks'...\n",
      "remote: Enumerating objects: 21, done.\u001b[K\n",
      "remote: Counting objects: 100% (21/21), done.\u001b[K\n",
      "remote: Compressing objects: 100% (19/19), done.\u001b[K\n",
      "remote: Total 21 (delta 3), reused 14 (delta 1), pack-reused 0\u001b[K\n",
      "Unpacking objects: 100% (21/21), 61.02 KiB | 480.00 KiB/s, done.\n"
     ]
    }
   ],
   "source": [
    "!git clone https://github.com/QuantEcon/continuous_time_mcs.notebooks.git"
   ]
  }
 ],
 "metadata": {
  "kernelspec": {
   "display_name": "Python 3 (ipykernel)",
   "language": "python",
   "name": "python3"
  },
  "language_info": {
   "codemirror_mode": {
    "name": "ipython",
    "version": 3
   },
   "file_extension": ".py",
   "mimetype": "text/x-python",
   "name": "python",
   "nbconvert_exporter": "python",
   "pygments_lexer": "ipython3",
   "version": "3.9.7"
  }
 },
 "nbformat": 4,
 "nbformat_minor": 5
}
