{
 "cells": [
  {
   "cell_type": "code",
   "execution_count": 1,
   "id": "569e3755-546f-4a51-9eda-fbba8144c3f5",
   "metadata": {},
   "outputs": [
    {
     "name": "stdout",
     "output_type": "stream",
     "text": [
      "Collecting quantecon\n",
      "  Downloading quantecon-0.5.3-py3-none-any.whl (179 kB)\n",
      "     |████████████████████████████████| 179 kB 1.7 MB/s            \n",
      "\u001b[?25hRequirement already satisfied: numpy in /opt/conda/lib/python3.9/site-packages (from quantecon) (1.20.3)\n",
      "Requirement already satisfied: scipy>=1.0.0 in /opt/conda/lib/python3.9/site-packages (from quantecon) (1.7.1)\n",
      "Requirement already satisfied: sympy in /opt/conda/lib/python3.9/site-packages (from quantecon) (1.9)\n",
      "Requirement already satisfied: numba in /opt/conda/lib/python3.9/site-packages (from quantecon) (0.54.1)\n",
      "Requirement already satisfied: requests in /opt/conda/lib/python3.9/site-packages (from quantecon) (2.26.0)\n",
      "Requirement already satisfied: setuptools in /opt/conda/lib/python3.9/site-packages (from numba->quantecon) (58.2.0)\n",
      "Requirement already satisfied: llvmlite<0.38,>=0.37.0rc1 in /opt/conda/lib/python3.9/site-packages (from numba->quantecon) (0.37.0)\n",
      "Requirement already satisfied: idna<4,>=2.5 in /opt/conda/lib/python3.9/site-packages (from requests->quantecon) (3.1)\n",
      "Requirement already satisfied: certifi>=2017.4.17 in /opt/conda/lib/python3.9/site-packages (from requests->quantecon) (2021.10.8)\n",
      "Requirement already satisfied: urllib3<1.27,>=1.21.1 in /opt/conda/lib/python3.9/site-packages (from requests->quantecon) (1.26.7)\n",
      "Requirement already satisfied: charset-normalizer~=2.0.0 in /opt/conda/lib/python3.9/site-packages (from requests->quantecon) (2.0.0)\n",
      "Requirement already satisfied: mpmath>=0.19 in /opt/conda/lib/python3.9/site-packages (from sympy->quantecon) (1.2.1)\n",
      "Installing collected packages: quantecon\n",
      "Successfully installed quantecon-0.5.3\n"
     ]
    }
   ],
   "source": [
    "import sys\n",
    "!{sys.executable} -m pip install quantecon"
   ]
  },
  {
   "cell_type": "code",
   "execution_count": 2,
   "id": "5407b416-22b8-4990-9e58-4fc1fea997fc",
   "metadata": {},
   "outputs": [
    {
     "name": "stdout",
     "output_type": "stream",
     "text": [
      "Cloning into 'lecture-python.notebooks'...\n",
      "remote: Enumerating objects: 6729, done.\u001b[K\n",
      "remote: Counting objects: 100% (613/613), done.\u001b[K\n",
      "remote: Compressing objects: 100% (28/28), done.\u001b[K\n",
      "remote: Total 6729 (delta 588), reused 585 (delta 585), pack-reused 6116\u001b[K\n",
      "Receiving objects: 100% (6729/6729), 3.09 MiB | 9.04 MiB/s, done.\n",
      "Resolving deltas: 100% (6410/6410), done.\n"
     ]
    }
   ],
   "source": [
    "!git clone https://github.com/QuantEcon/lecture-python.notebooks.git"
   ]
  },
  {
   "cell_type": "code",
   "execution_count": null,
   "id": "38cf64b9-a4b9-4519-b2cd-532e32177dd0",
   "metadata": {},
   "outputs": [],
   "source": []
  }
 ],
 "metadata": {
  "kernelspec": {
   "display_name": "Python 3 (ipykernel)",
   "language": "python",
   "name": "python3"
  },
  "language_info": {
   "codemirror_mode": {
    "name": "ipython",
    "version": 3
   },
   "file_extension": ".py",
   "mimetype": "text/x-python",
   "name": "python",
   "nbconvert_exporter": "python",
   "pygments_lexer": "ipython3",
   "version": "3.9.7"
  }
 },
 "nbformat": 4,
 "nbformat_minor": 5
}
